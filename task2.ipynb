{
 "cells": [
  {
   "cell_type": "code",
   "execution_count": null,
   "id": "f2a215e2-67f1-46cc-8c5b-958d218e739c",
   "metadata": {},
   "outputs": [],
   "source": [
    "import numpy as np"
   ]
  },
  {
   "cell_type": "code",
   "execution_count": null,
   "id": "5c1fa92a-dc59-4298-bcae-3b6928e8ce94",
   "metadata": {},
   "outputs": [],
   "source": [
    "learning_rate = 0.1\n",
    "\n",
    "i1, i2 = 0.05, 0.10\n",
    "\n",
    "w1, w2, w3, w4 = 0.15, 0.20, 0.25, 0.30\n",
    "w5, w6, w7, w8 = 0.40, 0.45, 0.50, 0.55\n",
    "\n",
    "b1, b2 = 0.35, 0.60\n",
    "\n",
    "target_o1, target_o2 = 0.1, 0.99"
   ]
  },
  {
   "cell_type": "code",
   "execution_count": null,
   "id": "c35609e1-4cb5-4a50-ae0a-e455aed4d660",
   "metadata": {},
   "outputs": [],
   "source": [
    "def sigmoid(x):\n",
    "    return 1 / (1 + np.exp(-x))\n",
    "\n",
    "\n",
    "def sigmoid_derivative(x):\n",
    "    return x * (1 - x)"
   ]
  },
  {
   "cell_type": "code",
   "execution_count": null,
   "id": "65d04252-ae5a-4cf2-b101-5984a1935020",
   "metadata": {},
   "outputs": [],
   "source": [
    "net_h1 = w1 * i1 + w2 * i2 + b1 * 1\n",
    "net_h2 = w3 * i1 + w4 * i2 + b1 * 1"
   ]
  },
  {
   "cell_type": "code",
   "execution_count": null,
   "id": "44ac2ffe-e9fd-402a-8964-ef6dbc98b21a",
   "metadata": {},
   "outputs": [],
   "source": [
    "out_h1 = sigmoid(net_h1)\n",
    "out_h2 = sigmoid(net_h2)"
   ]
  },
  {
   "cell_type": "code",
   "execution_count": null,
   "id": "a41fe4cc-cc54-4266-be78-f62fa9e0877e",
   "metadata": {},
   "outputs": [],
   "source": [
    "net_o1 = w5 * out_h1 + w6 * out_h2 + b2 * 1\n",
    "net_o2 = w7 * out_h1 + w8 * out_h2 + b2 * 1"
   ]
  },
  {
   "cell_type": "code",
   "execution_count": null,
   "id": "7dc07450-0046-42de-89a5-6d515fe53e53",
   "metadata": {},
   "outputs": [],
   "source": [
    "out_o1 = sigmoid(net_o1)\n",
    "out_o2 = sigmoid(net_o2)"
   ]
  },
  {
   "cell_type": "code",
   "execution_count": null,
   "id": "023fc83e-ccfa-4c1e-a9a0-02a50773f22e",
   "metadata": {},
   "outputs": [],
   "source": [
    "error_o1 = 0.5 * (target_o1 - out_o1) ** 2\n",
    "error_o2 = 0.5 * (target_o2 - out_o2) ** 2\n",
    "\n",
    "total_error = error_o1 + error_o2"
   ]
  },
  {
   "cell_type": "code",
   "execution_count": null,
   "id": "7f153763-ab90-45b8-8694-baf57e5a49b5",
   "metadata": {},
   "outputs": [],
   "source": [
    "delta_o1 = (target_o1 - out_o1) * sigmoid_derivative(out_o1)\n",
    "delta_o2 = (target_o2 - out_o2) * sigmoid_derivative(out_o2)"
   ]
  },
  {
   "cell_type": "code",
   "execution_count": null,
   "id": "e745204f-37f9-4ca4-9760-6829f27e52eb",
   "metadata": {},
   "outputs": [],
   "source": [
    "delta_h1 = (delta_o1 * w5 + delta_o2 * w7) * sigmoid_derivative(out_h1)\n",
    "delta_h2 = (delta_o1 * w6 + delta_o2 * w8) * sigmoid_derivative(out_h2)"
   ]
  },
  {
   "cell_type": "code",
   "execution_count": null,
   "id": "8c9a1209-c65a-44d4-965c-7d52a24ebd29",
   "metadata": {},
   "outputs": [],
   "source": [
    "w5 += learning_rate * delta_o1 * out_h1\n",
    "w6 += learning_rate * delta_o1 * out_h2\n",
    "w7 += learning_rate * delta_o2 * out_h1\n",
    "w8 += learning_rate * delta_o2 * out_h2"
   ]
  },
  {
   "cell_type": "code",
   "execution_count": null,
   "id": "ba5189c8-cf4b-4298-86a9-4898cd66aaff",
   "metadata": {},
   "outputs": [],
   "source": [
    "w1 += learning_rate * delta_h1* i1\n",
    "w2 += learning_rate * delta_h1 * i2\n",
    "w3 += learning_rate * delta_h2 * i1\n",
    "w4 += learning_rate * delta_h2 * i2"
   ]
  },
  {
   "cell_type": "code",
   "execution_count": null,
   "id": "00333eb1-6791-4243-95cf-96411b7d83b3",
   "metadata": {},
   "outputs": [],
   "source": [
    "b1 += learning_rate * delta_h1\n",
    "b2 += learning_rate * delta_o1"
   ]
  },
  {
   "cell_type": "code",
   "execution_count": null,
   "id": "016eb822-0bfb-405f-a7db-b6e440556d82",
   "metadata": {},
   "outputs": [],
   "source": [
    "print(\"Updated Weights:\")\n",
    "print(f\"w1: {w1}, w2: {w2}, w3: {w3}, w4: {w4}\")\n",
    "print(f\"w5: {w5}, w6: {w6}, w7: {w7}, w8: {w8}\")\n",
    "print(f\"b1: {b1}, b2: {b2}\")\n",
    "\n",
    "print(f\"Total Error after update: {total_error}\")"
   ]
  }
 ],
 "metadata": {
  "kernelspec": {
   "display_name": "Python [conda env:base] *",
   "language": "python",
   "name": "conda-base-py"
  },
  "language_info": {
   "codemirror_mode": {
    "name": "ipython",
    "version": 3
   },
   "file_extension": ".py",
   "mimetype": "text/x-python",
   "name": "python",
   "nbconvert_exporter": "python",
   "pygments_lexer": "ipython3",
   "version": "3.12.7"
  }
 },
 "nbformat": 4,
 "nbformat_minor": 5
}
