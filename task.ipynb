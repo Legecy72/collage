{
 "cells": [
  {
   "cell_type": "code",
   "execution_count": 75,
   "id": "12edcbe7-1516-46f7-b56f-86065e2d2ad7",
   "metadata": {},
   "outputs": [],
   "source": [
    "import math\n",
    "import random"
   ]
  },
  {
   "cell_type": "code",
   "execution_count": 77,
   "id": "10b5ca99-6f9e-472a-95d7-64defdb719bf",
   "metadata": {},
   "outputs": [],
   "source": [
    "#  function tanh\n",
    "def tanh(x):\n",
    "    return (math.exp(x) - math.exp(-x)) / (math.exp(x) + math.exp(-x))"
   ]
  },
  {
   "cell_type": "code",
   "execution_count": 79,
   "id": "38ac067f-4134-474b-87f3-f7cfa77b434d",
   "metadata": {},
   "outputs": [],
   "source": [
    "#  biases\n",
    "b1 = 0.5\n",
    "b2 = 0.7"
   ]
  },
  {
   "cell_type": "code",
   "execution_count": 97,
   "id": "49db3d35-0936-4f2a-bc07-ff67c351b0e8",
   "metadata": {},
   "outputs": [],
   "source": [
    "#  random weights  [-0.5, 0.5]\n",
    "weights = {\n",
    "    'w1': random.uniform(-0.5, 0.5), 'w2': random.uniform(-0.5, 0.5),\n",
    "    'w3': random.uniform(-0.5, 0.5), 'w4': random.uniform(-0.5, 0.5),\n",
    "    'w5': random.uniform(-0.5, 0.5), 'w6': random.uniform(-0.5, 0.5),\n",
    "    'w7': random.uniform(-0.5, 0.5), 'w8': random.uniform(-0.5, 0.5)\n",
    "}"
   ]
  },
  {
   "cell_type": "code",
   "execution_count": 99,
   "id": "91152dd3-caf2-4fdc-a520-65d9b6edf2e1",
   "metadata": {},
   "outputs": [],
   "source": [
    "# input values \n",
    "x1, x2 = 0.05, 0.10"
   ]
  },
  {
   "cell_type": "code",
   "execution_count": 101,
   "id": "b95d247d-9c9d-4f27-9c8d-c4388aed15ab",
   "metadata": {},
   "outputs": [],
   "source": [
    "# output of the hidden layer \n",
    "n1_input = weights['w1'] * x1 + weights['w2'] * x2 + b1\n",
    "n2_input = weights['w3'] * x1 + weights['w4'] * x2 + b1\n",
    "n1 = tanh(n1_input)\n",
    "n2 = tanh(n2_input)"
   ]
  },
  {
   "cell_type": "code",
   "execution_count": 103,
   "id": "62a821e6-0bcb-44d2-a694-69f730565e1f",
   "metadata": {},
   "outputs": [],
   "source": [
    "# output of the output layer \n",
    "out1_input = weights['w5'] * n1 + weights['w6'] * n2 + b2\n",
    "out2_input = weights['w7'] * n1 + weights['w8'] * n2 + b2"
   ]
  },
  {
   "cell_type": "code",
   "execution_count": 105,
   "id": "7ecf1915-51d0-4fe7-b904-9ab50ca3b257",
   "metadata": {},
   "outputs": [],
   "source": [
    "#  tanh activation on final outputs\n",
    "output1 = tanh(out1_input)\n",
    "output2 = tanh(out2_input)"
   ]
  },
  {
   "cell_type": "code",
   "execution_count": 107,
   "id": "34cd72a1-8b9a-45bb-8907-2cb345d07e42",
   "metadata": {},
   "outputs": [
    {
     "name": "stdout",
     "output_type": "stream",
     "text": [
      "Network Output: 0.6027539320358619 0.7154392110815211\n"
     ]
    }
   ],
   "source": [
    "print(\"Network Output:\", output1, output2)"
   ]
  },
  {
   "cell_type": "code",
   "execution_count": null,
   "id": "ac7a9851-2af1-48aa-99bf-ac4bfd257547",
   "metadata": {},
   "outputs": [],
   "source": []
  }
 ],
 "metadata": {
  "kernelspec": {
   "display_name": "Python [conda env:base] *",
   "language": "python",
   "name": "conda-base-py"
  },
  "language_info": {
   "codemirror_mode": {
    "name": "ipython",
    "version": 3
   },
   "file_extension": ".py",
   "mimetype": "text/x-python",
   "name": "python",
   "nbconvert_exporter": "python",
   "pygments_lexer": "ipython3",
   "version": "3.12.7"
  }
 },
 "nbformat": 4,
 "nbformat_minor": 5
}
